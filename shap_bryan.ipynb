{
 "cells": [
  {
   "cell_type": "markdown",
   "metadata": {},
   "source": [
    "### This is my attempt to do shap... I hope"
   ]
  },
  {
   "cell_type": "code",
   "execution_count": 67,
   "metadata": {},
   "outputs": [],
   "source": [
    "import pandas as pd\n",
    "import numpy as np\n",
    "import pandas_gbq\n",
    "import yfinance as yf\n",
    "import datetime"
   ]
  },
  {
   "cell_type": "markdown",
   "metadata": {},
   "source": [
    "#### Lets get some model output data"
   ]
  },
  {
   "cell_type": "code",
   "execution_count": 36,
   "metadata": {},
   "outputs": [],
   "source": [
    "project_id = 'irlts-317602'\n",
    "# Full table path in gcp bigquery irlts-317602.2018.10eps_default_training\n",
    "dataset_name = '2017'\n",
    "table_name = '10eps_default'\n",
    "r_query = \"\"\"\n",
    "SELECT \n",
    "    data.* \n",
    "FROM \n",
    "    `irlts-317602.2018.10eps_default_training` as data \n",
    "WHERE \n",
    "    data.Episode = '8'\n",
    "\"\"\"\n",
    "query_result = pandas_gbq.read_gbq(r_query,project_id=project_id, progress_bar_type=None)"
   ]
  },
  {
   "cell_type": "code",
   "execution_count": 68,
   "metadata": {},
   "outputs": [],
   "source": [
    "query_result.Date = query_result.Date.astype(np.datetime64)"
   ]
  },
  {
   "cell_type": "code",
   "execution_count": 71,
   "metadata": {},
   "outputs": [],
   "source": [
    "output_data = query_result.set_index('Date').sort_index()"
   ]
  },
  {
   "cell_type": "markdown",
   "metadata": {},
   "source": [
    "#### Lets get some feature data"
   ]
  },
  {
   "cell_type": "code",
   "execution_count": 46,
   "metadata": {},
   "outputs": [
    {
     "name": "stdout",
     "output_type": "stream",
     "text": [
      "[*********************100%***********************]  1 of 1 completed\n"
     ]
    }
   ],
   "source": [
    "last_output_date = output_data.index.max()\n",
    "first_output_date = output_data.index.min()\n",
    "feature_df = yf.download('VOO',start=first_output_date,end=last_output_date, interval='1d')"
   ]
  },
  {
   "cell_type": "code",
   "execution_count": 73,
   "metadata": {},
   "outputs": [],
   "source": [
    "feature_df_subset = feature_df[['Adj Close','Volume']]\n",
    "# feature_df_subset.index"
   ]
  },
  {
   "cell_type": "markdown",
   "metadata": {},
   "source": [
    "#### Lets join these two dfs (hoping this goes well)"
   ]
  },
  {
   "cell_type": "code",
   "execution_count": 89,
   "metadata": {},
   "outputs": [],
   "source": [
    "final_data = query_result.join(feature_df_subset,on=\"Date\",how = 'inner') #join the two datasets\n",
    "final_data.rename(columns={f'{j}':f'{j.lower()}'for i,j in enumerate(final_data.columns)},inplace = True) #fix columns because this is bothering me\n",
    "final_data.rename(columns={'Adj Close':'adj_close'},inplace=True)\n"
   ]
  },
  {
   "cell_type": "code",
   "execution_count": 90,
   "metadata": {},
   "outputs": [
    {
     "data": {
      "text/html": [
       "<div>\n",
       "<style scoped>\n",
       "    .dataframe tbody tr th:only-of-type {\n",
       "        vertical-align: middle;\n",
       "    }\n",
       "\n",
       "    .dataframe tbody tr th {\n",
       "        vertical-align: top;\n",
       "    }\n",
       "\n",
       "    .dataframe thead th {\n",
       "        text-align: right;\n",
       "    }\n",
       "</style>\n",
       "<table border=\"1\" class=\"dataframe\">\n",
       "  <thead>\n",
       "    <tr style=\"text-align: right;\">\n",
       "      <th></th>\n",
       "      <th>date</th>\n",
       "      <th>hold</th>\n",
       "      <th>buy</th>\n",
       "      <th>sell</th>\n",
       "      <th>choice</th>\n",
       "      <th>episode</th>\n",
       "      <th>adj close</th>\n",
       "      <th>volume</th>\n",
       "    </tr>\n",
       "  </thead>\n",
       "  <tbody>\n",
       "    <tr>\n",
       "      <th>0</th>\n",
       "      <td>2018-01-26</td>\n",
       "      <td>0.879150927066803</td>\n",
       "      <td>0.7801176905632019</td>\n",
       "      <td>0.8700972199440002</td>\n",
       "      <td>0</td>\n",
       "      <td>8</td>\n",
       "      <td>243.352722</td>\n",
       "      <td>2857300</td>\n",
       "    </tr>\n",
       "    <tr>\n",
       "      <th>1</th>\n",
       "      <td>2018-01-29</td>\n",
       "      <td>0.8475786447525024</td>\n",
       "      <td>0.7617209553718567</td>\n",
       "      <td>0.8034783005714417</td>\n",
       "      <td>0</td>\n",
       "      <td>8</td>\n",
       "      <td>241.670990</td>\n",
       "      <td>5145000</td>\n",
       "    </tr>\n",
       "    <tr>\n",
       "      <th>2</th>\n",
       "      <td>2018-02-01</td>\n",
       "      <td>0.6819868683815002</td>\n",
       "      <td>0.6323200464248657</td>\n",
       "      <td>0.6294571757316589</td>\n",
       "      <td>0</td>\n",
       "      <td>8</td>\n",
       "      <td>239.074539</td>\n",
       "      <td>3125700</td>\n",
       "    </tr>\n",
       "    <tr>\n",
       "      <th>3</th>\n",
       "      <td>2018-02-26</td>\n",
       "      <td>2.5456316471099854</td>\n",
       "      <td>2.146250009536743</td>\n",
       "      <td>2.346653461456299</td>\n",
       "      <td>0</td>\n",
       "      <td>8</td>\n",
       "      <td>235.997467</td>\n",
       "      <td>1892000</td>\n",
       "    </tr>\n",
       "    <tr>\n",
       "      <th>4</th>\n",
       "      <td>2018-02-27</td>\n",
       "      <td>2.6943464279174805</td>\n",
       "      <td>2.3414077758789062</td>\n",
       "      <td>2.477212429046631</td>\n",
       "      <td>0</td>\n",
       "      <td>8</td>\n",
       "      <td>232.985107</td>\n",
       "      <td>2947100</td>\n",
       "    </tr>\n",
       "    <tr>\n",
       "      <th>...</th>\n",
       "      <td>...</td>\n",
       "      <td>...</td>\n",
       "      <td>...</td>\n",
       "      <td>...</td>\n",
       "      <td>...</td>\n",
       "      <td>...</td>\n",
       "      <td>...</td>\n",
       "      <td>...</td>\n",
       "    </tr>\n",
       "    <tr>\n",
       "      <th>193</th>\n",
       "      <td>2018-10-01</td>\n",
       "      <td>0.5459641218185425</td>\n",
       "      <td>0.8462108373641968</td>\n",
       "      <td>1.290140986442566</td>\n",
       "      <td>2</td>\n",
       "      <td>8</td>\n",
       "      <td>251.103226</td>\n",
       "      <td>1968800</td>\n",
       "    </tr>\n",
       "    <tr>\n",
       "      <th>194</th>\n",
       "      <td>2018-10-02</td>\n",
       "      <td>0.4659746587276459</td>\n",
       "      <td>0.7753522992134094</td>\n",
       "      <td>1.2290778160095215</td>\n",
       "      <td>2</td>\n",
       "      <td>8</td>\n",
       "      <td>251.075134</td>\n",
       "      <td>3034100</td>\n",
       "    </tr>\n",
       "    <tr>\n",
       "      <th>195</th>\n",
       "      <td>2018-10-05</td>\n",
       "      <td>0.3356887996196747</td>\n",
       "      <td>0.5928556323051453</td>\n",
       "      <td>0.9725805521011353</td>\n",
       "      <td>2</td>\n",
       "      <td>8</td>\n",
       "      <td>247.824387</td>\n",
       "      <td>2564700</td>\n",
       "    </tr>\n",
       "    <tr>\n",
       "      <th>196</th>\n",
       "      <td>2018-10-08</td>\n",
       "      <td>0.29206451773643494</td>\n",
       "      <td>0.5181288719177246</td>\n",
       "      <td>0.857489824295044</td>\n",
       "      <td>2</td>\n",
       "      <td>8</td>\n",
       "      <td>247.758804</td>\n",
       "      <td>3219600</td>\n",
       "    </tr>\n",
       "    <tr>\n",
       "      <th>197</th>\n",
       "      <td>2018-10-11</td>\n",
       "      <td>0.01531270146369934</td>\n",
       "      <td>0.41507530212402344</td>\n",
       "      <td>1.099414348602295</td>\n",
       "      <td>2</td>\n",
       "      <td>8</td>\n",
       "      <td>234.409241</td>\n",
       "      <td>9037000</td>\n",
       "    </tr>\n",
       "  </tbody>\n",
       "</table>\n",
       "<p>197 rows × 8 columns</p>\n",
       "</div>"
      ],
      "text/plain": [
       "          date                 hold                  buy                sell  \\\n",
       "0   2018-01-26    0.879150927066803   0.7801176905632019  0.8700972199440002   \n",
       "1   2018-01-29   0.8475786447525024   0.7617209553718567  0.8034783005714417   \n",
       "2   2018-02-01   0.6819868683815002   0.6323200464248657  0.6294571757316589   \n",
       "3   2018-02-26   2.5456316471099854    2.146250009536743   2.346653461456299   \n",
       "4   2018-02-27   2.6943464279174805   2.3414077758789062   2.477212429046631   \n",
       "..         ...                  ...                  ...                 ...   \n",
       "193 2018-10-01   0.5459641218185425   0.8462108373641968   1.290140986442566   \n",
       "194 2018-10-02   0.4659746587276459   0.7753522992134094  1.2290778160095215   \n",
       "195 2018-10-05   0.3356887996196747   0.5928556323051453  0.9725805521011353   \n",
       "196 2018-10-08  0.29206451773643494   0.5181288719177246   0.857489824295044   \n",
       "197 2018-10-11  0.01531270146369934  0.41507530212402344   1.099414348602295   \n",
       "\n",
       "    choice episode   adj close   volume  \n",
       "0        0       8  243.352722  2857300  \n",
       "1        0       8  241.670990  5145000  \n",
       "2        0       8  239.074539  3125700  \n",
       "3        0       8  235.997467  1892000  \n",
       "4        0       8  232.985107  2947100  \n",
       "..     ...     ...         ...      ...  \n",
       "193      2       8  251.103226  1968800  \n",
       "194      2       8  251.075134  3034100  \n",
       "195      2       8  247.824387  2564700  \n",
       "196      2       8  247.758804  3219600  \n",
       "197      2       8  234.409241  9037000  \n",
       "\n",
       "[197 rows x 8 columns]"
      ]
     },
     "execution_count": 90,
     "metadata": {},
     "output_type": "execute_result"
    }
   ],
   "source": []
  }
 ],
 "metadata": {
  "kernelspec": {
   "display_name": "Python 3.9.12 64-bit (windows store)",
   "language": "python",
   "name": "python3"
  },
  "language_info": {
   "codemirror_mode": {
    "name": "ipython",
    "version": 3
   },
   "file_extension": ".py",
   "mimetype": "text/x-python",
   "name": "python",
   "nbconvert_exporter": "python",
   "pygments_lexer": "ipython3",
   "version": "3.9.13"
  },
  "orig_nbformat": 4,
  "vscode": {
   "interpreter": {
    "hash": "231f708fbec9c535d090798f7039dd92c4e83641f529e9bb8d5e17a6b6157fe8"
   }
  }
 },
 "nbformat": 4,
 "nbformat_minor": 2
}
